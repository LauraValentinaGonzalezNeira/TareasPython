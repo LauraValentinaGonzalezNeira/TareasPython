{
  "nbformat": 4,
  "nbformat_minor": 0,
  "metadata": {
    "colab": {
      "name": "tareaGpioZero.ipynb",
      "provenance": [],
      "authorship_tag": "ABX9TyNPWfJJ8kUmpv3jOtpG9n2S",
      "include_colab_link": true
    },
    "kernelspec": {
      "name": "python3",
      "display_name": "Python 3"
    },
    "language_info": {
      "name": "python"
    }
  },
  "cells": [
    {
      "cell_type": "markdown",
      "metadata": {
        "id": "view-in-github",
        "colab_type": "text"
      },
      "source": [
        "<a href=\"https://colab.research.google.com/github/LauraValentinaGonzalezNeira/TareasPython/blob/main/GpioZero/tareaGpioZero.ipynb\" target=\"_parent\"><img src=\"https://colab.research.google.com/assets/colab-badge.svg\" alt=\"Open In Colab\"/></a>"
      ]
    },
    {
      "cell_type": "code",
      "metadata": {
        "id": "A1lPiYbc_JlE"
      },
      "source": [
        "from gpiozero import Button\n",
        "from signal import \n",
        "from gpozero import LED\n",
        "\n",
        "BtnR = Button(2)\n",
        "BtnG = Button(3)\n",
        "BtnB = Button(4)\n",
        "\n",
        "LedRojo = LED(14,initial_value=False)\n",
        "LedVerde = LED(15,initial_value=False) \n",
        "LedAzul = LED(18,initial_value=False)\n",
        "\n",
        "def on_offR():\n",
        "  LedRojo.toggle()\n",
        "\n",
        "def on_offG():\n",
        "  LedVerde.toggle()\n",
        "\n",
        "def on_offB():\n",
        "  LedAzul.toggle()\n",
        "\n",
        "def parR():\n",
        "  LedRojo.blink(on_time=1.5, off_time=1.5,n=10)\n",
        "\n",
        "def parG():\n",
        "  LedVerde.blink(on_time=1.5, off_time=1.5,n=10)\n",
        "\n",
        "def parB():\n",
        "  LedAzul.blink(on_time=1.5, off_time=1.5,n=10)\n",
        "\n",
        "try:\n",
        "  BtnR.when_pressed = on_offR\n",
        "  BtnG.when_pressed = on_offG\n",
        "  BtnB.when_pressed = on_offB\n",
        "  BtnR.when_held = parR\n",
        "  BtnG.when_held = parG\n",
        "  BtnB.when_held = parB\n",
        "  pause()\n",
        "finally:\n",
        "  pass\n"
      ],
      "execution_count": null,
      "outputs": []
    }
  ]
}