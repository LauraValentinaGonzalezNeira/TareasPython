{
  "nbformat": 4,
  "nbformat_minor": 0,
  "metadata": {
    "colab": {
      "name": "os.ipynb",
      "provenance": [],
      "authorship_tag": "ABX9TyPhVX0uRflqwghyQqFCpU7T",
      "include_colab_link": true
    },
    "kernelspec": {
      "name": "python3",
      "display_name": "Python 3"
    },
    "language_info": {
      "name": "python"
    }
  },
  "cells": [
    {
      "cell_type": "markdown",
      "metadata": {
        "id": "view-in-github",
        "colab_type": "text"
      },
      "source": [
        "<a href=\"https://colab.research.google.com/github/LauraValentinaGonzalezNeira/TareasPython/blob/main/os/tareaos.ipynb\" target=\"_parent\"><img src=\"https://colab.research.google.com/assets/colab-badge.svg\" alt=\"Open In Colab\"/></a>"
      ]
    },
    {
      "cell_type": "code",
      "metadata": {
        "colab": {
          "base_uri": "https://localhost:8080/",
          "height": 35
        },
        "id": "z7wJ_GOSMhUg",
        "outputId": "37e15fe5-fb03-40fd-ace3-399a0b230e62"
      },
      "source": [
        "import os\n",
        "os.getcwd()"
      ],
      "execution_count": 5,
      "outputs": [
        {
          "output_type": "execute_result",
          "data": {
            "application/vnd.google.colaboratory.intrinsic+json": {
              "type": "string"
            },
            "text/plain": [
              "'/content'"
            ]
          },
          "metadata": {},
          "execution_count": 5
        }
      ]
    },
    {
      "cell_type": "code",
      "metadata": {
        "id": "jHN6AiTySIlI"
      },
      "source": [
        "os.mkdir('módulo1')\n",
        "os.mkdir('módulo2')\n",
        "os.mkdir('módulo3')"
      ],
      "execution_count": 11,
      "outputs": []
    },
    {
      "cell_type": "code",
      "metadata": {
        "id": "5PAXj0WhT7k3"
      },
      "source": [
        "os.chdir('módulo1')\n",
        "os.mkdir('observaciones')"
      ],
      "execution_count": 12,
      "outputs": []
    },
    {
      "cell_type": "code",
      "metadata": {
        "colab": {
          "base_uri": "https://localhost:8080/",
          "height": 35
        },
        "id": "jLz7IQCqU06D",
        "outputId": "ba236aef-5a79-4397-eb7e-472d70355932"
      },
      "source": [
        "os.getcwd()"
      ],
      "execution_count": 17,
      "outputs": [
        {
          "output_type": "execute_result",
          "data": {
            "application/vnd.google.colaboratory.intrinsic+json": {
              "type": "string"
            },
            "text/plain": [
              "'/content/módulo1'"
            ]
          },
          "metadata": {},
          "execution_count": 17
        }
      ]
    },
    {
      "cell_type": "code",
      "metadata": {
        "id": "hXKYBlMwVXWf"
      },
      "source": [
        "import os\n",
        "os.chdir('/content')"
      ],
      "execution_count": 18,
      "outputs": []
    },
    {
      "cell_type": "code",
      "metadata": {
        "id": "ycpX6rBfVcub"
      },
      "source": [
        "os.chdir('módulo2')\n",
        "os.mkdir('observaciones')"
      ],
      "execution_count": 19,
      "outputs": []
    },
    {
      "cell_type": "code",
      "metadata": {
        "id": "1AMO1ryLVmfA"
      },
      "source": [
        "import os\n",
        "os.chdir('/content')"
      ],
      "execution_count": 20,
      "outputs": []
    },
    {
      "cell_type": "code",
      "metadata": {
        "id": "MGIjZBMZVtY5"
      },
      "source": [
        "os.chdir('módulo3')\n",
        "os.mkdir('observaciones')"
      ],
      "execution_count": 21,
      "outputs": []
    },
    {
      "cell_type": "code",
      "metadata": {
        "colab": {
          "base_uri": "https://localhost:8080/"
        },
        "id": "9Hc4PQQcWHSe",
        "outputId": "6115706a-7d31-4c89-edfa-3c776cdc90c2"
      },
      "source": [
        "import os\n",
        "os.chdir('/content')\n",
        "os.listdir()"
      ],
      "execution_count": 23,
      "outputs": [
        {
          "output_type": "execute_result",
          "data": {
            "text/plain": [
              "['.config', 'módulo3', 'módulo2', 'módulo1', 'sample_data']"
            ]
          },
          "metadata": {},
          "execution_count": 23
        }
      ]
    },
    {
      "cell_type": "code",
      "metadata": {
        "id": "FfyoxhiVWe1C"
      },
      "source": [
        "os.rename('módulo1','Modulación')"
      ],
      "execution_count": 24,
      "outputs": []
    },
    {
      "cell_type": "code",
      "metadata": {
        "id": "61nSblAjWuIl"
      },
      "source": [
        "os.rename('módulo2','Transición')\n",
        "os.rename('módulo3','CopiadeSeguridad')"
      ],
      "execution_count": 25,
      "outputs": []
    },
    {
      "cell_type": "code",
      "metadata": {
        "colab": {
          "base_uri": "https://localhost:8080/"
        },
        "id": "2fCv8WWZY7Ye",
        "outputId": "7cedb7af-00fa-4ffd-8743-26485cece396"
      },
      "source": [
        "import os \n",
        "os.chdir('/content')\n",
        "os.listdir()"
      ],
      "execution_count": 30,
      "outputs": [
        {
          "output_type": "execute_result",
          "data": {
            "text/plain": [
              "['.config', 'Modulación', 'CopiadeSeguridad', 'Transición', 'sample_data']"
            ]
          },
          "metadata": {},
          "execution_count": 30
        }
      ]
    },
    {
      "cell_type": "code",
      "metadata": {
        "colab": {
          "base_uri": "https://localhost:8080/"
        },
        "id": "l3MhRX0BZMdu",
        "outputId": "2e82805d-63ea-463f-add1-165e5ac15f95"
      },
      "source": [
        "os.stat('Modulación')"
      ],
      "execution_count": 31,
      "outputs": [
        {
          "output_type": "execute_result",
          "data": {
            "text/plain": [
              "os.stat_result(st_mode=16877, st_ino=6029314, st_dev=51, st_nlink=4, st_uid=0, st_gid=0, st_size=4096, st_atime=1629325280, st_mtime=1629324742, st_ctime=1629325274)"
            ]
          },
          "metadata": {},
          "execution_count": 31
        }
      ]
    }
  ]
}